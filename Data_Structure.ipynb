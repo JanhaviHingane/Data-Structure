{
  "nbformat": 4,
  "nbformat_minor": 0,
  "metadata": {
    "colab": {
      "provenance": []
    },
    "kernelspec": {
      "name": "python3",
      "display_name": "Python 3"
    },
    "language_info": {
      "name": "python"
    }
  },
  "cells": [
    {
      "cell_type": "markdown",
      "source": [
        "**Data Types and Structures question**"
      ],
      "metadata": {
        "id": "yv6unEY0TIHv"
      }
    },
    {
      "cell_type": "markdown",
      "source": [
        "1. What are data structures, and why are they important?\n",
        "  - Data structures are ways of organizing and storing data to enable efficient access and modification. They are important because they optimize performance, make data management easier, and are fundamental to problem-solving in computer science.\n",
        "\n",
        "2. Explain the difference between mutable and immutable data types with examples.\n",
        "  - Mutable: Can be changed after creation. Example: list = [1, 2, 3] → we can modify elements.\n",
        "  - Immutable: Cannot be changed after creation. Example: tuple = (1, 2, 3) → elements cannot be altered.\n",
        "\n",
        "3. What are the main differences between lists and tuples in Python?\n",
        "  - Lists: Mutable, slower, use [], good for dynamic data.\n",
        "  - Tuples: Immutable, faster, use (), good for fixed data.\n",
        "\n",
        "4. Describe how dictionaries store data.\n",
        "  - Dictionaries store data as key-value pairs using a hash table internally, allowing fast lookups, insertions, and deletions.\n",
        "\n",
        "5. Why might you use a set instead of a list in Python?\n",
        "  - To store unique elements (no duplicates).To perform mathematical operations like union, intersection, and difference efficiently.\n",
        "\n",
        "6. What is a string in Python, and how is it different from a list?\n",
        "  - A string is a sequence of characters (immutable).\n",
        "  - A list is a sequence of elements (mutable, can hold mixed types).\n",
        "Example: \"hello\" vs [1, \"hello\", 3.5].\n",
        "\n",
        "7. How do tuples ensure data integrity in Python?\n",
        "  - Since tuples are immutable, their contents cannot be modified, ensuring that data remains fixed and secure.\n",
        "\n",
        "8. What is a hash table, and how does it relate to dictionaries in Python?\n",
        "  - A hash table is a data structure that maps keys to values using a hash function. In Python, dictionaries are implemented using hash tables.\n",
        "\n",
        "9. Can lists contain different data types in Python?\n",
        "  - Yes, lists are heterogeneous.\n",
        "\n",
        "10. Explain why strings are immutable in Python.\n",
        "  - Strings are immutable for:Security (e.g., safe to use in hashing/keys), Performance\n",
        "\n",
        "11. What advantages do dictionaries offer over lists for certain tasks?\n",
        "  - More meaningful storage using key-value mapping.\n",
        "  - Efficient for tasks like counting frequencies or storing configurations.\n",
        "\n",
        "12. Describe a scenario where using a tuple would be preferable over a list.\n",
        "  - When storing fixed data that should not change, e.g., coordinates (x, y) or database record keys.\n",
        "\n",
        "13. How do sets handle duplicate values in Python?\n",
        "  - Sets automatically remove duplicates. Example: {1, 2, 2, 3} → {1, 2, 3}.\n",
        "\n",
        "14. How does the “in” keyword work differently for lists and dictionaries?\n",
        "  - List: Checks if the value exists (5 in [1,2,5]).\n",
        "  - Dictionary: Checks if the key exists (\"name\" in {\"name\": \"Alex\"}).\n",
        "\n",
        "15. Can you modify the elements of a tuple? Explain why or why not.\n",
        "  - No, tuples are immutable. Once created, elements cannot be changed. However, if a tuple contains a mutable object (like a list), that object can still be modified.\n",
        "\n",
        "16. What is a nested dictionary, and give an example of its use case?\n",
        "  - A dictionary containing another dictionary as a value.\n",
        "Example:\n",
        "student = {\n",
        "  \"name\": \"John\",\n",
        "  \"marks\": {\"math\": 90, \"science\": 85}\n",
        "}\n",
        "\n",
        "17. Describe the time complexity of accessing elements in a dictionary.\n",
        "  - Average case: O(1) (constant time).\n",
        "  - Worst case: O(n) (if hash collisions occur).\n",
        "\n",
        "18. In what situations are lists preferred over dictionaries?\n",
        "  - When order matters.\n",
        "  - When storing sequential data.\n",
        "  - When fast iteration is needed without key lookups.\n",
        "\n",
        "19. Why are dictionaries considered unordered, and how does that affect data retrieval?\n",
        "  - Dictionaries are considered unordered because they rely on hashing rather than positions. Even though insertion order is preserved in newer Python versions, data retrieval always depends on keys, not indexes.\n",
        "\n",
        "20. Explain the difference between a list and a dictionary in terms of data retrieval.\n",
        "  - List: Retrieve by index (position-based).\n",
        "  - Dictionary: Retrieve by key (name-based lookup)."
      ],
      "metadata": {
        "id": "9sY_aHMwTdwo"
      }
    },
    {
      "cell_type": "markdown",
      "source": [
        "**Practical Questions**"
      ],
      "metadata": {
        "id": "HORaCMa-Wxlf"
      }
    },
    {
      "cell_type": "code",
      "source": [
        "# 1. Write a code to create a string with your name and print it.\n",
        "\n",
        "name = \"Janhavi\"\n",
        "print(name)"
      ],
      "metadata": {
        "colab": {
          "base_uri": "https://localhost:8080/"
        },
        "id": "SPvKCoq8W3Bk",
        "outputId": "a901e003-949c-4a15-f575-834addd3ab07"
      },
      "execution_count": 11,
      "outputs": [
        {
          "output_type": "stream",
          "name": "stdout",
          "text": [
            "Janhavi\n"
          ]
        }
      ]
    },
    {
      "cell_type": "code",
      "source": [
        "# 2. Write a code to find the length of the string \"Hello World\".\n",
        "\n",
        "text = \"Hello World\"\n",
        "print(len(text))"
      ],
      "metadata": {
        "colab": {
          "base_uri": "https://localhost:8080/"
        },
        "id": "DaHqOApHXbPr",
        "outputId": "aebcaed1-04ef-4a7d-92e3-aed671b3f28d"
      },
      "execution_count": 12,
      "outputs": [
        {
          "output_type": "stream",
          "name": "stdout",
          "text": [
            "11\n"
          ]
        }
      ]
    },
    {
      "cell_type": "code",
      "source": [
        "# 3. Write a code to slice the first 3 characters from the string \"Python Programming\".\n",
        "\n",
        "text = \"Python Programming\"\n",
        "print(text[:3])"
      ],
      "metadata": {
        "colab": {
          "base_uri": "https://localhost:8080/"
        },
        "id": "1-q0Jen1Xf6g",
        "outputId": "8d661a6c-439b-4134-b8dd-9decf0ef46db"
      },
      "execution_count": 13,
      "outputs": [
        {
          "output_type": "stream",
          "name": "stdout",
          "text": [
            "Pyt\n"
          ]
        }
      ]
    },
    {
      "cell_type": "code",
      "source": [
        "# 4. Write a code to convert the string \"hello\" to uppercase.\n",
        "\n",
        "text = \"hello\"\n",
        "print(text.upper())"
      ],
      "metadata": {
        "colab": {
          "base_uri": "https://localhost:8080/"
        },
        "id": "a_ejVqUWXm5j",
        "outputId": "fcf5f17a-209f-4511-808a-aa134bd1986f"
      },
      "execution_count": 14,
      "outputs": [
        {
          "output_type": "stream",
          "name": "stdout",
          "text": [
            "HELLO\n"
          ]
        }
      ]
    },
    {
      "cell_type": "code",
      "source": [
        "# 5. Write a code to replace the word \"apple\" with \"orange\" in the string \"I like apple\".\n",
        "\n",
        "text = \"I like apple\"\n",
        "print(text.replace(\"apple\", \"orange\"))"
      ],
      "metadata": {
        "colab": {
          "base_uri": "https://localhost:8080/"
        },
        "id": "GFpyIEqcXrHM",
        "outputId": "037951e3-7f6c-4ace-a58d-4221cba21cd0"
      },
      "execution_count": 15,
      "outputs": [
        {
          "output_type": "stream",
          "name": "stdout",
          "text": [
            "I like orange\n"
          ]
        }
      ]
    },
    {
      "cell_type": "code",
      "source": [
        "# 6. Write a code to create a list with numbers 1 to 5 and print it.\n",
        "\n",
        "numbers = [1, 2, 3, 4, 5]\n",
        "print(numbers)"
      ],
      "metadata": {
        "colab": {
          "base_uri": "https://localhost:8080/"
        },
        "id": "iL9AHg1OXvo0",
        "outputId": "11ad00b5-1a47-4677-f948-a6ffaaaa3b91"
      },
      "execution_count": 16,
      "outputs": [
        {
          "output_type": "stream",
          "name": "stdout",
          "text": [
            "[1, 2, 3, 4, 5]\n"
          ]
        }
      ]
    },
    {
      "cell_type": "code",
      "source": [
        "# 7. Write a code to append the number 10 to the list [1, 2, 3, 4].\n",
        "\n",
        "numbers = [1, 2, 3, 4]\n",
        "numbers.append(10)\n",
        "print(numbers)"
      ],
      "metadata": {
        "colab": {
          "base_uri": "https://localhost:8080/"
        },
        "id": "kTHoyr0UXz9h",
        "outputId": "32d999cd-3948-45dc-e858-8da8bd4fec19"
      },
      "execution_count": 17,
      "outputs": [
        {
          "output_type": "stream",
          "name": "stdout",
          "text": [
            "[1, 2, 3, 4, 10]\n"
          ]
        }
      ]
    },
    {
      "cell_type": "code",
      "source": [
        "# 8. Write a code to remove the number 3 from the list [1, 2, 3, 4, 5].\n",
        "\n",
        "numbers = [1, 2, 3, 4, 5]\n",
        "numbers.remove(3)\n",
        "print(numbers)"
      ],
      "metadata": {
        "colab": {
          "base_uri": "https://localhost:8080/"
        },
        "id": "e1chFMFpX5Md",
        "outputId": "21e8e35d-c5d5-4e90-dbab-9aca7fb9ca08"
      },
      "execution_count": 18,
      "outputs": [
        {
          "output_type": "stream",
          "name": "stdout",
          "text": [
            "[1, 2, 4, 5]\n"
          ]
        }
      ]
    },
    {
      "cell_type": "code",
      "source": [
        "# 9. Write a code to access the second element in the list ['a', 'b', 'c', 'd'].\n",
        "\n",
        "letters = ['a', 'b', 'c', 'd']\n",
        "print(letters[1])"
      ],
      "metadata": {
        "colab": {
          "base_uri": "https://localhost:8080/"
        },
        "id": "ggR1yMYrX886",
        "outputId": "7be382ca-9f5a-40a8-86fb-ef3d1b3e241f"
      },
      "execution_count": 19,
      "outputs": [
        {
          "output_type": "stream",
          "name": "stdout",
          "text": [
            "b\n"
          ]
        }
      ]
    },
    {
      "cell_type": "code",
      "source": [
        "# 10. Write a code to reverse the list [10, 20, 30, 40, 50].\n",
        "\n",
        "numbers = [10, 20, 30, 40, 50]\n",
        "numbers.reverse()\n",
        "print(numbers)"
      ],
      "metadata": {
        "colab": {
          "base_uri": "https://localhost:8080/"
        },
        "id": "pBC7_2v9YA7U",
        "outputId": "61dbac60-1de1-42f8-d389-652cc68abf04"
      },
      "execution_count": 20,
      "outputs": [
        {
          "output_type": "stream",
          "name": "stdout",
          "text": [
            "[50, 40, 30, 20, 10]\n"
          ]
        }
      ]
    },
    {
      "cell_type": "code",
      "source": [
        "# 11. Write a code to create a tuple with the elements 100, 200, 300 and print it.\n",
        "\n",
        "numbers = (100, 200, 300)\n",
        "print(numbers)"
      ],
      "metadata": {
        "colab": {
          "base_uri": "https://localhost:8080/"
        },
        "id": "wSGLEh3uYGhh",
        "outputId": "78983ff0-2dae-4aa1-db04-3aef9ec5e519"
      },
      "execution_count": 21,
      "outputs": [
        {
          "output_type": "stream",
          "name": "stdout",
          "text": [
            "(100, 200, 300)\n"
          ]
        }
      ]
    },
    {
      "cell_type": "code",
      "source": [
        "# 12. Write a code to access the second-to-last element of the tuple ('red', 'green', 'blue', 'yellow').\n",
        "\n",
        "colors = ('red', 'green', 'blue', 'yellow')\n",
        "print(colors[-2])"
      ],
      "metadata": {
        "colab": {
          "base_uri": "https://localhost:8080/"
        },
        "id": "SivowskTYaih",
        "outputId": "2b0ce02c-97dc-4f4e-eade-06785180df7d"
      },
      "execution_count": 22,
      "outputs": [
        {
          "output_type": "stream",
          "name": "stdout",
          "text": [
            "blue\n"
          ]
        }
      ]
    },
    {
      "cell_type": "code",
      "source": [
        "# 13. Write a code to find the minimum number in the tuple (10, 20, 5, 15).\n",
        "\n",
        "nums = (10, 20, 5, 15)\n",
        "print(min(nums))"
      ],
      "metadata": {
        "colab": {
          "base_uri": "https://localhost:8080/"
        },
        "id": "Mreg693FYmSp",
        "outputId": "9f2028a7-b759-4814-980b-febc980738cf"
      },
      "execution_count": 23,
      "outputs": [
        {
          "output_type": "stream",
          "name": "stdout",
          "text": [
            "5\n"
          ]
        }
      ]
    },
    {
      "cell_type": "code",
      "source": [
        "# 14. Write a code to find the index of the element \"cat\" in the tuple ('dog', 'cat', 'rabbit').\n",
        "\n",
        "animals = ('dog', 'cat', 'rabbit')\n",
        "print(animals.index(\"cat\"))"
      ],
      "metadata": {
        "colab": {
          "base_uri": "https://localhost:8080/"
        },
        "id": "ykbdm_X4Ys95",
        "outputId": "a28670ac-b68b-4840-feda-71a0d3b8e952"
      },
      "execution_count": 24,
      "outputs": [
        {
          "output_type": "stream",
          "name": "stdout",
          "text": [
            "1\n"
          ]
        }
      ]
    },
    {
      "cell_type": "code",
      "source": [
        "# 15. Write a code to create a tuple containing three different fruits and check if \"kiwi\" is in it.\n",
        "\n",
        "fruits = ('apple', 'banana', 'mango')\n",
        "print(\"kiwi\" in fruits)"
      ],
      "metadata": {
        "colab": {
          "base_uri": "https://localhost:8080/"
        },
        "id": "fOKFW_-lYx2h",
        "outputId": "cf402977-a2b0-46a6-bdf3-ff5634e1645f"
      },
      "execution_count": 25,
      "outputs": [
        {
          "output_type": "stream",
          "name": "stdout",
          "text": [
            "False\n"
          ]
        }
      ]
    },
    {
      "cell_type": "code",
      "source": [
        "# 16. Write a code to create a set with the elements 'a', 'b', 'c' and print it.\n",
        "\n",
        "letters = {'a', 'b', 'c'}\n",
        "print(letters)"
      ],
      "metadata": {
        "colab": {
          "base_uri": "https://localhost:8080/"
        },
        "id": "nMzTS3Q6ZAjG",
        "outputId": "2c520371-c17c-4cc4-d5f8-c7ed1d2b1722"
      },
      "execution_count": 30,
      "outputs": [
        {
          "output_type": "stream",
          "name": "stdout",
          "text": [
            "{'b', 'c', 'a'}\n"
          ]
        }
      ]
    },
    {
      "cell_type": "code",
      "source": [
        "# 17. Write a code to clear all elements from the set {1, 2, 3, 4, 5}.\n",
        "\n",
        "s = {1, 2, 3, 4, 5}\n",
        "s.clear()\n",
        "print(s)"
      ],
      "metadata": {
        "colab": {
          "base_uri": "https://localhost:8080/"
        },
        "id": "OPBpheciZEGA",
        "outputId": "1d82c62d-8092-4a6b-9824-116313d0697d"
      },
      "execution_count": 31,
      "outputs": [
        {
          "output_type": "stream",
          "name": "stdout",
          "text": [
            "set()\n"
          ]
        }
      ]
    },
    {
      "cell_type": "code",
      "source": [
        "# 18. Write a code to remove the element 4 from the set {1, 2, 3, 4}.\n",
        "\n",
        "s = {1, 2, 3, 4}\n",
        "s.remove(4)\n",
        "print(s)"
      ],
      "metadata": {
        "colab": {
          "base_uri": "https://localhost:8080/"
        },
        "id": "ALnVkWzbZO_J",
        "outputId": "f850750b-1dad-4e16-f68d-0b906a7152ae"
      },
      "execution_count": 32,
      "outputs": [
        {
          "output_type": "stream",
          "name": "stdout",
          "text": [
            "{1, 2, 3}\n"
          ]
        }
      ]
    },
    {
      "cell_type": "code",
      "source": [
        "# 19. Write a code to find the union of two sets {1, 2, 3} and {3, 4, 5}.\n",
        "\n",
        "set1 = {1, 2, 3}\n",
        "set2 = {3, 4, 5}\n",
        "print(set1.union(set2))"
      ],
      "metadata": {
        "colab": {
          "base_uri": "https://localhost:8080/"
        },
        "id": "v3aMACfmZRwf",
        "outputId": "a92bebb4-06a6-4a48-8897-7a061c4e4aab"
      },
      "execution_count": 33,
      "outputs": [
        {
          "output_type": "stream",
          "name": "stdout",
          "text": [
            "{1, 2, 3, 4, 5}\n"
          ]
        }
      ]
    },
    {
      "cell_type": "code",
      "source": [
        "# 20. Write a code to find the intersection of two sets {1, 2, 3} and {2, 3, 4}.\n",
        "\n",
        "set1 = {1, 2, 3}\n",
        "set2 = {2, 3, 4}\n",
        "print(set1.intersection(set2))"
      ],
      "metadata": {
        "colab": {
          "base_uri": "https://localhost:8080/"
        },
        "id": "VHS8KF8WZUs8",
        "outputId": "567e2c7e-f6f7-4c7c-f728-c2b53e88ef75"
      },
      "execution_count": 34,
      "outputs": [
        {
          "output_type": "stream",
          "name": "stdout",
          "text": [
            "{2, 3}\n"
          ]
        }
      ]
    },
    {
      "cell_type": "code",
      "source": [
        "# 21. Write a code to create a dictionary with the keys \"name\", \"age\", and \"city\", and print it.\n",
        "\n",
        "person = {\"name\": \"Janhavi\", \"age\": 21, \"city\": \"Nashik\"}\n",
        "print(person)"
      ],
      "metadata": {
        "colab": {
          "base_uri": "https://localhost:8080/"
        },
        "id": "dzuD7X4TZYXY",
        "outputId": "c5f84e4f-00ef-4464-984c-7778efd24d70"
      },
      "execution_count": 36,
      "outputs": [
        {
          "output_type": "stream",
          "name": "stdout",
          "text": [
            "{'name': 'Janhavi', 'age': 21, 'city': 'Nashik'}\n"
          ]
        }
      ]
    },
    {
      "cell_type": "code",
      "source": [
        "# 22. Write a code to add a new key–value pair \"country\": \"USA\" to the dictionary {'name': 'John', 'age': 25}.\n",
        "\n",
        "person = {'name': 'John', 'age': 25}\n",
        "person[\"country\"] = \"USA\"\n",
        "print(person)"
      ],
      "metadata": {
        "colab": {
          "base_uri": "https://localhost:8080/"
        },
        "id": "KOUZX2FuZcB8",
        "outputId": "f85e7542-7cb6-4fc3-a80e-e6d80ac69fc3"
      },
      "execution_count": 37,
      "outputs": [
        {
          "output_type": "stream",
          "name": "stdout",
          "text": [
            "{'name': 'John', 'age': 25, 'country': 'USA'}\n"
          ]
        }
      ]
    },
    {
      "cell_type": "code",
      "source": [
        "# 23. Write a code to access the value associated with the key \"name\" in the dictionary {'name': 'Alice', 'age': 30}.\n",
        "\n",
        "person = {'name': 'Alice', 'age': 30}\n",
        "print(person[\"name\"])"
      ],
      "metadata": {
        "colab": {
          "base_uri": "https://localhost:8080/"
        },
        "id": "7X91NysWZm1k",
        "outputId": "8ebb0251-1d3b-409c-8bb9-196cd9c03b9a"
      },
      "execution_count": 38,
      "outputs": [
        {
          "output_type": "stream",
          "name": "stdout",
          "text": [
            "Alice\n"
          ]
        }
      ]
    },
    {
      "cell_type": "code",
      "source": [
        "# 24. Write a code to remove the key \"age\" from the dictionary {'name': 'Bob', 'age': 22, 'city': 'New York'}.\n",
        "\n",
        "person = {'name': 'Bob', 'age': 22, 'city': 'New York'}\n",
        "person.pop(\"age\")\n",
        "print(person)"
      ],
      "metadata": {
        "colab": {
          "base_uri": "https://localhost:8080/"
        },
        "id": "xDQVDu2EZvVt",
        "outputId": "d89dc28c-0845-4e47-f23e-a4420834ae7b"
      },
      "execution_count": 39,
      "outputs": [
        {
          "output_type": "stream",
          "name": "stdout",
          "text": [
            "{'name': 'Bob', 'city': 'New York'}\n"
          ]
        }
      ]
    },
    {
      "cell_type": "code",
      "source": [
        "# 25. Write a code to check if the key \"city\" exists in the dictionary {'name': 'Alice', 'city': 'Paris'}.\n",
        "\n",
        "person = {'name': 'Alice', 'city': 'Paris'}\n",
        "print(\"city\" in person)"
      ],
      "metadata": {
        "colab": {
          "base_uri": "https://localhost:8080/"
        },
        "id": "9fmNIiw4ZzJK",
        "outputId": "a1195125-a008-4744-8d8b-935b4c71932a"
      },
      "execution_count": 40,
      "outputs": [
        {
          "output_type": "stream",
          "name": "stdout",
          "text": [
            "True\n"
          ]
        }
      ]
    },
    {
      "cell_type": "code",
      "source": [
        "# 26. Write a code to create a list, a tuple, and a dictionary, and print them all.\n",
        "\n",
        "my_list = [1, 2, 3]\n",
        "my_tuple = (4, 5, 6)\n",
        "my_dict = {\"a\": 1, \"b\": 2}\n",
        "print(my_list, my_tuple, my_dict)"
      ],
      "metadata": {
        "colab": {
          "base_uri": "https://localhost:8080/"
        },
        "id": "3t9M2jnFZ3bT",
        "outputId": "2488af5f-53f2-4cf2-e9db-4ecf82588609"
      },
      "execution_count": 41,
      "outputs": [
        {
          "output_type": "stream",
          "name": "stdout",
          "text": [
            "[1, 2, 3] (4, 5, 6) {'a': 1, 'b': 2}\n"
          ]
        }
      ]
    },
    {
      "cell_type": "code",
      "source": [
        "# 27. Write a code to create a list of 5 random numbers between 1 and 100, sort it in ascending order, and print the result.\n",
        "\n",
        "import random\n",
        "numbers = random.sample(range(1, 101), 5)\n",
        "numbers.sort()\n",
        "print(numbers)"
      ],
      "metadata": {
        "colab": {
          "base_uri": "https://localhost:8080/"
        },
        "id": "ReFZF3CgZ8DO",
        "outputId": "fe0b71dd-463f-4f18-9e93-9425819619fb"
      },
      "execution_count": 42,
      "outputs": [
        {
          "output_type": "stream",
          "name": "stdout",
          "text": [
            "[13, 28, 48, 54, 90]\n"
          ]
        }
      ]
    },
    {
      "cell_type": "code",
      "source": [
        "# 28. Write a code to create a list with strings and print the element at the third index.\n",
        "\n",
        "words = [\"apple\", \"banana\", \"cherry\", \"date\"]\n",
        "print(words[3])"
      ],
      "metadata": {
        "colab": {
          "base_uri": "https://localhost:8080/"
        },
        "id": "cV7dTXINaCRc",
        "outputId": "13d03135-7684-4eee-bea0-59b93bf3ff35"
      },
      "execution_count": 43,
      "outputs": [
        {
          "output_type": "stream",
          "name": "stdout",
          "text": [
            "date\n"
          ]
        }
      ]
    },
    {
      "cell_type": "code",
      "source": [
        "# 29. Write a code to combine two dictionaries into one and print the result.\n",
        "\n",
        "dict1 = {\"a\": 1, \"b\": 2}\n",
        "dict2 = {\"c\": 3, \"d\": 4}\n",
        "dict1.update(dict2)\n",
        "print(dict1)"
      ],
      "metadata": {
        "colab": {
          "base_uri": "https://localhost:8080/"
        },
        "id": "D7Vp17RNaJHV",
        "outputId": "ba837323-5b43-44ff-99f3-d9cb8d916b6b"
      },
      "execution_count": 47,
      "outputs": [
        {
          "output_type": "stream",
          "name": "stdout",
          "text": [
            "{'a': 1, 'b': 2, 'c': 3, 'd': 4}\n"
          ]
        }
      ]
    },
    {
      "cell_type": "code",
      "source": [
        "# 30. Write a code to convert a list of strings into a set.\n",
        "\n",
        "words = [\"apple\", \"banana\", \"apple\", \"cherry\"]\n",
        "words_set = set(words)\n",
        "print(words_set)"
      ],
      "metadata": {
        "colab": {
          "base_uri": "https://localhost:8080/"
        },
        "id": "C6MCdrwwazKm",
        "outputId": "57bf4beb-ed09-4121-926d-635a4de7c8f1"
      },
      "execution_count": 46,
      "outputs": [
        {
          "output_type": "stream",
          "name": "stdout",
          "text": [
            "{'cherry', 'apple', 'banana'}\n"
          ]
        }
      ]
    }
  ]
}